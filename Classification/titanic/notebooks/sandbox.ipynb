{
 "cells": [
  {
   "cell_type": "code",
   "execution_count": 1,
   "id": "b12d68c2",
   "metadata": {},
   "outputs": [],
   "source": [
    "import pandas as pd\n",
    "import yaml"
   ]
  },
  {
   "cell_type": "code",
   "execution_count": 3,
   "id": "2f3902ce",
   "metadata": {},
   "outputs": [],
   "source": [
    "yaml_path = r\"C:\\Users\\gustavo\\Documents\\Data Science\\08-GitHub\\Portifolio\\Classification\\titanic\\src\\config.yaml\"\n",
    "with open(yaml_path, \"r\", encoding=\"utf-8\") as f:\n",
    "    config = yaml.safe_load(f)"
   ]
  },
  {
   "cell_type": "code",
   "execution_count": 7,
   "id": "1ca6ff51",
   "metadata": {},
   "outputs": [
    {
     "data": {
      "text/plain": [
       "'C:/Users/gustavo/Documents/Data Science/08-GitHub/Portifolio/Classification/titanic/plots'"
      ]
     },
     "execution_count": 7,
     "metadata": {},
     "output_type": "execute_result"
    }
   ],
   "source": [
    "config['save_plots']['base_path']"
   ]
  },
  {
   "cell_type": "code",
   "execution_count": 6,
   "id": "dca51691",
   "metadata": {},
   "outputs": [
    {
     "data": {
      "text/plain": [
       "'C:/Users/gustavo/Documents/Data Science/08-GitHub/Portifolio/Classification/titanic/dados_titanic/reports'"
      ]
     },
     "execution_count": 6,
     "metadata": {},
     "output_type": "execute_result"
    }
   ],
   "source": [
    "config['save_reports']['base_path']"
   ]
  },
  {
   "cell_type": "code",
   "execution_count": 2,
   "id": "519d919a",
   "metadata": {},
   "outputs": [],
   "source": [
    "tmp = {'criterion': 'entropy', 'max_depth': 20, 'min_samples_split': 6, 'n_estimators': 100}"
   ]
  },
  {
   "cell_type": "code",
   "execution_count": 5,
   "id": "5488ee7e",
   "metadata": {},
   "outputs": [
    {
     "data": {
      "application/vnd.microsoft.datawrangler.viewer.v0+json": {
       "columns": [
        {
         "name": "index",
         "rawType": "object",
         "type": "string"
        },
        {
         "name": "rf",
         "rawType": "object",
         "type": "unknown"
        }
       ],
       "ref": "b6e1b657-5470-45ce-bf7a-83b189a6c431",
       "rows": [
        [
         "criterion",
         "entropy"
        ],
        [
         "max_depth",
         "20"
        ],
        [
         "min_samples_split",
         "6"
        ],
        [
         "n_estimators",
         "100"
        ]
       ],
       "shape": {
        "columns": 1,
        "rows": 4
       }
      },
      "text/html": [
       "<div>\n",
       "<style scoped>\n",
       "    .dataframe tbody tr th:only-of-type {\n",
       "        vertical-align: middle;\n",
       "    }\n",
       "\n",
       "    .dataframe tbody tr th {\n",
       "        vertical-align: top;\n",
       "    }\n",
       "\n",
       "    .dataframe thead th {\n",
       "        text-align: right;\n",
       "    }\n",
       "</style>\n",
       "<table border=\"1\" class=\"dataframe\">\n",
       "  <thead>\n",
       "    <tr style=\"text-align: right;\">\n",
       "      <th></th>\n",
       "      <th>rf</th>\n",
       "    </tr>\n",
       "  </thead>\n",
       "  <tbody>\n",
       "    <tr>\n",
       "      <th>criterion</th>\n",
       "      <td>entropy</td>\n",
       "    </tr>\n",
       "    <tr>\n",
       "      <th>max_depth</th>\n",
       "      <td>20</td>\n",
       "    </tr>\n",
       "    <tr>\n",
       "      <th>min_samples_split</th>\n",
       "      <td>6</td>\n",
       "    </tr>\n",
       "    <tr>\n",
       "      <th>n_estimators</th>\n",
       "      <td>100</td>\n",
       "    </tr>\n",
       "  </tbody>\n",
       "</table>\n",
       "</div>"
      ],
      "text/plain": [
       "                        rf\n",
       "criterion          entropy\n",
       "max_depth               20\n",
       "min_samples_split        6\n",
       "n_estimators           100"
      ]
     },
     "execution_count": 5,
     "metadata": {},
     "output_type": "execute_result"
    }
   ],
   "source": [
    "pd.DataFrame.from_dict(tmp, orient='index', columns=['rf'])"
   ]
  }
 ],
 "metadata": {
  "kernelspec": {
   "display_name": "explain",
   "language": "python",
   "name": "python3"
  },
  "language_info": {
   "codemirror_mode": {
    "name": "ipython",
    "version": 3
   },
   "file_extension": ".py",
   "mimetype": "text/x-python",
   "name": "python",
   "nbconvert_exporter": "python",
   "pygments_lexer": "ipython3",
   "version": "3.12.7"
  }
 },
 "nbformat": 4,
 "nbformat_minor": 5
}
