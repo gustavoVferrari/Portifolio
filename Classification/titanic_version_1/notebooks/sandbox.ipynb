{
 "cells": [
  {
   "cell_type": "code",
   "execution_count": 1,
   "id": "b1af89e5",
   "metadata": {},
   "outputs": [],
   "source": [
    "import sys\n",
    "sys.path.append(r'C:\\Users\\gustavo\\Documents\\Data Science\\08-GitHub\\Portifolio/Classification/titanic_version_1')\n",
    "\n",
    "import pandas as pd\n",
    "import yaml\n",
    "import pickle\n",
    "import os\n",
    "import json\n",
    "\n",
    "# Carregando as configurações do arquivo YAML\n",
    "yaml_path = r\"C:\\Users\\gustavo\\Documents\\Data Science\\08-GitHub\\Portifolio\\Classification\\titanic_version_1\\src\\config.yaml\"\n",
    "with open(yaml_path, \"r\", encoding=\"utf-8\") as f:\n",
    "    config = yaml.safe_load(f)"
   ]
  },
  {
   "cell_type": "code",
   "execution_count": 2,
   "id": "89329604",
   "metadata": {},
   "outputs": [],
   "source": [
    "params = {\n",
    "    'test_data': os.path.join(config['output_data']['path'], \n",
    "                            config['output_data']['file_test']),\n",
    "    'cols_2_drop' : config['feat_selection_params']['cols_2_drop'],           \n",
    "    'pipe': config['pipe_feat_eng']['path'],\n",
    "    'model': config['model']['path'],\n",
    "    'report': config['save_reports']['path_reports'],\n",
    "    'target':config['feat_selection_params']['target'],\n",
    "    'submission':config['submission']['path']\n",
    "    }"
   ]
  },
  {
   "cell_type": "code",
   "execution_count": 3,
   "id": "b826ed63",
   "metadata": {},
   "outputs": [],
   "source": [
    "df_test = pd.read_parquet(params['test_data'])    \n",
    "y_test_id = df_test[['PassengerId']].copy()\n",
    "df_test.drop(\n",
    "    columns=params['cols_2_drop'], \n",
    "    inplace=True)\n",
    "# read pipe\n",
    "pipe_path = os.path.join(\n",
    "    params['model'],\n",
    "    f\"pipe.pkl\")\n",
    "\n",
    "with open(pipe_path, \"rb\") as file:\n",
    "    pipe = pickle.load(file)\n",
    "# appply pipe\n",
    "df_test_transf = pipe.transform(df_test)    "
   ]
  },
  {
   "cell_type": "code",
   "execution_count": 4,
   "id": "45d43d8d",
   "metadata": {},
   "outputs": [],
   "source": [
    "model_path = os.path.join(\n",
    "    params['model'],\n",
    "    f\"model.pkl\")\n",
    "# open model\n",
    "with open(model_path, \"rb\") as file:\n",
    "    model = pickle.load(file)\n",
    "    \n",
    "report_path = os.path.join(\n",
    "    params['report'],\n",
    "    \"report.json\")\n",
    "# get cols to predict\n",
    "with open(report_path, \"rb\") as file:\n",
    "    report = json.load(file)"
   ]
  },
  {
   "cell_type": "code",
   "execution_count": 5,
   "id": "c65d8445",
   "metadata": {},
   "outputs": [],
   "source": [
    "pred = model.predict(\n",
    "    df_test_transf[report['Variaveis mantidas:']]\n",
    "    )"
   ]
  },
  {
   "cell_type": "code",
   "execution_count": 6,
   "id": "5f84caaf",
   "metadata": {},
   "outputs": [],
   "source": [
    "y_test_id['Survived'] = pred"
   ]
  },
  {
   "cell_type": "code",
   "execution_count": null,
   "id": "730e719e",
   "metadata": {},
   "outputs": [],
   "source": [
    "pred.shape"
   ]
  },
  {
   "cell_type": "code",
   "execution_count": 7,
   "id": "2308b253",
   "metadata": {},
   "outputs": [
    {
     "data": {
      "application/vnd.microsoft.datawrangler.viewer.v0+json": {
       "columns": [
        {
         "name": "index",
         "rawType": "int64",
         "type": "integer"
        },
        {
         "name": "PassengerId",
         "rawType": "int64",
         "type": "integer"
        },
        {
         "name": "Survived",
         "rawType": "int32",
         "type": "integer"
        }
       ],
       "ref": "83f53629-73ca-4375-bcac-9fd82c8a5991",
       "rows": [
        [
         "0",
         "892",
         "0"
        ],
        [
         "1",
         "893",
         "0"
        ],
        [
         "2",
         "894",
         "0"
        ],
        [
         "3",
         "895",
         "0"
        ],
        [
         "4",
         "896",
         "1"
        ],
        [
         "5",
         "897",
         "0"
        ],
        [
         "6",
         "898",
         "1"
        ],
        [
         "7",
         "899",
         "0"
        ],
        [
         "8",
         "900",
         "1"
        ],
        [
         "9",
         "901",
         "0"
        ],
        [
         "10",
         "902",
         "0"
        ],
        [
         "11",
         "903",
         "0"
        ],
        [
         "12",
         "904",
         "1"
        ],
        [
         "13",
         "905",
         "0"
        ],
        [
         "14",
         "906",
         "1"
        ],
        [
         "15",
         "907",
         "1"
        ],
        [
         "16",
         "908",
         "0"
        ],
        [
         "17",
         "909",
         "0"
        ],
        [
         "18",
         "910",
         "1"
        ],
        [
         "19",
         "911",
         "0"
        ],
        [
         "20",
         "912",
         "0"
        ],
        [
         "21",
         "913",
         "1"
        ],
        [
         "22",
         "914",
         "1"
        ],
        [
         "23",
         "915",
         "0"
        ],
        [
         "24",
         "916",
         "1"
        ],
        [
         "25",
         "917",
         "0"
        ],
        [
         "26",
         "918",
         "1"
        ],
        [
         "27",
         "919",
         "0"
        ],
        [
         "28",
         "920",
         "0"
        ],
        [
         "29",
         "921",
         "0"
        ],
        [
         "30",
         "922",
         "0"
        ],
        [
         "31",
         "923",
         "0"
        ],
        [
         "32",
         "924",
         "1"
        ],
        [
         "33",
         "925",
         "0"
        ],
        [
         "34",
         "926",
         "0"
        ],
        [
         "35",
         "927",
         "0"
        ],
        [
         "36",
         "928",
         "1"
        ],
        [
         "37",
         "929",
         "1"
        ],
        [
         "38",
         "930",
         "0"
        ],
        [
         "39",
         "931",
         "0"
        ],
        [
         "40",
         "932",
         "0"
        ],
        [
         "41",
         "933",
         "0"
        ],
        [
         "42",
         "934",
         "0"
        ],
        [
         "43",
         "935",
         "1"
        ],
        [
         "44",
         "936",
         "1"
        ],
        [
         "45",
         "937",
         "0"
        ],
        [
         "46",
         "938",
         "0"
        ],
        [
         "47",
         "939",
         "0"
        ],
        [
         "48",
         "940",
         "1"
        ],
        [
         "49",
         "941",
         "1"
        ]
       ],
       "shape": {
        "columns": 2,
        "rows": 418
       }
      },
      "text/html": [
       "<div>\n",
       "<style scoped>\n",
       "    .dataframe tbody tr th:only-of-type {\n",
       "        vertical-align: middle;\n",
       "    }\n",
       "\n",
       "    .dataframe tbody tr th {\n",
       "        vertical-align: top;\n",
       "    }\n",
       "\n",
       "    .dataframe thead th {\n",
       "        text-align: right;\n",
       "    }\n",
       "</style>\n",
       "<table border=\"1\" class=\"dataframe\">\n",
       "  <thead>\n",
       "    <tr style=\"text-align: right;\">\n",
       "      <th></th>\n",
       "      <th>PassengerId</th>\n",
       "      <th>Survived</th>\n",
       "    </tr>\n",
       "  </thead>\n",
       "  <tbody>\n",
       "    <tr>\n",
       "      <th>0</th>\n",
       "      <td>892</td>\n",
       "      <td>0</td>\n",
       "    </tr>\n",
       "    <tr>\n",
       "      <th>1</th>\n",
       "      <td>893</td>\n",
       "      <td>0</td>\n",
       "    </tr>\n",
       "    <tr>\n",
       "      <th>2</th>\n",
       "      <td>894</td>\n",
       "      <td>0</td>\n",
       "    </tr>\n",
       "    <tr>\n",
       "      <th>3</th>\n",
       "      <td>895</td>\n",
       "      <td>0</td>\n",
       "    </tr>\n",
       "    <tr>\n",
       "      <th>4</th>\n",
       "      <td>896</td>\n",
       "      <td>1</td>\n",
       "    </tr>\n",
       "    <tr>\n",
       "      <th>...</th>\n",
       "      <td>...</td>\n",
       "      <td>...</td>\n",
       "    </tr>\n",
       "    <tr>\n",
       "      <th>413</th>\n",
       "      <td>1305</td>\n",
       "      <td>0</td>\n",
       "    </tr>\n",
       "    <tr>\n",
       "      <th>414</th>\n",
       "      <td>1306</td>\n",
       "      <td>1</td>\n",
       "    </tr>\n",
       "    <tr>\n",
       "      <th>415</th>\n",
       "      <td>1307</td>\n",
       "      <td>0</td>\n",
       "    </tr>\n",
       "    <tr>\n",
       "      <th>416</th>\n",
       "      <td>1308</td>\n",
       "      <td>0</td>\n",
       "    </tr>\n",
       "    <tr>\n",
       "      <th>417</th>\n",
       "      <td>1309</td>\n",
       "      <td>0</td>\n",
       "    </tr>\n",
       "  </tbody>\n",
       "</table>\n",
       "<p>418 rows × 2 columns</p>\n",
       "</div>"
      ],
      "text/plain": [
       "     PassengerId  Survived\n",
       "0            892         0\n",
       "1            893         0\n",
       "2            894         0\n",
       "3            895         0\n",
       "4            896         1\n",
       "..           ...       ...\n",
       "413         1305         0\n",
       "414         1306         1\n",
       "415         1307         0\n",
       "416         1308         0\n",
       "417         1309         0\n",
       "\n",
       "[418 rows x 2 columns]"
      ]
     },
     "execution_count": 7,
     "metadata": {},
     "output_type": "execute_result"
    }
   ],
   "source": [
    "y_test_id"
   ]
  },
  {
   "cell_type": "code",
   "execution_count": null,
   "id": "cc8f8499",
   "metadata": {},
   "outputs": [],
   "source": [
    "import sys\n",
    "sys.path.append(r'C:\\Users\\gustavo\\Documents\\Data Science\\08-GitHub\\Portifolio/Classification/titanic_version_1')\n",
    "\n",
    "import os\n",
    "import json\n",
    "import numpy as np\n",
    "import pandas as pd\n",
    "import matplotlib.pyplot as plt\n",
    "import seaborn as sns\n",
    "from scipy import stats\n",
    "from sklearn.pipeline import make_pipeline\n",
    "from sklearn.ensemble import RandomForestClassifier\n",
    "import yaml\n",
    "from mlxtend.feature_selection import SequentialFeatureSelector as SFS\n",
    "\n",
    "# open yaml\n",
    "yaml_path = r\"C:\\Users\\gustavo\\Documents\\Data Science\\08-GitHub\\Portifolio\\Classification\\titanic_version_1\\src\\config.yaml\"\n",
    "with open(yaml_path, \"r\", encoding=\"utf-8\") as f:\n",
    "    config = yaml.safe_load(f)"
   ]
  },
  {
   "cell_type": "code",
   "execution_count": null,
   "id": "9fa0a813",
   "metadata": {},
   "outputs": [],
   "source": [
    "X_train_feat_sel = os.path.join(\n",
    "            config['feat_selection']['path'],\n",
    "            config['feat_selection']['X_train_file'])\n",
    "    \n",
    "X_val_feat_sel = os.path.join(\n",
    "        config['feat_selection']['path'],\n",
    "        config['feat_selection']['X_val_file'])\n",
    "\n",
    "y_train_feat_sel = os.path.join(\n",
    "        config['feat_selection']['path'],\n",
    "        config['feat_selection']['y_train_file'])\n",
    "\n",
    "y_val_feat_sel = os.path.join(\n",
    "        config['feat_selection']['path'],\n",
    "        config['feat_selection']['y_val_file'])\n",
    "    \n",
    "params = {        \n",
    "    'X_train_feat_sel':X_train_feat_sel,\n",
    "    'X_val_feat_sel':X_val_feat_sel,\n",
    "    'y_train_feat_sel':y_train_feat_sel,\n",
    "    'y_val_feat_sel':y_val_feat_sel,\n",
    "    'save_plot':config['save_reports']['path_plot'],\n",
    "    'save_report':config['save_reports']['path_reports']\n",
    "    }"
   ]
  },
  {
   "cell_type": "code",
   "execution_count": null,
   "id": "fd78be7e",
   "metadata": {},
   "outputs": [],
   "source": [
    "X_train = pd.read_parquet(params['X_train_feat_sel'])\n",
    "X_val = pd.read_parquet(params['X_val_feat_sel'])\n",
    "y_train = pd.read_parquet(params['y_train_feat_sel'])\n",
    "y_val = pd.read_parquet(params['y_val_feat_sel'])\n",
    "\n",
    "\n",
    "sfs = SFS(\n",
    "    estimator=RandomForestClassifier(random_state=23),\n",
    "    k_features=X_train.shape[1]-1,  \n",
    "    forward=True,  \n",
    "    floating=False,  \n",
    "    scoring='accuracy',\n",
    "    cv=5, \n",
    "    n_jobs=-1\n",
    "    )    \n",
    "\n",
    "sfs_pipe = make_pipeline(sfs)"
   ]
  },
  {
   "cell_type": "code",
   "execution_count": null,
   "id": "76deb7f8",
   "metadata": {},
   "outputs": [],
   "source": [
    "sfs_fit = sfs_pipe.fit(X_train, y_train)"
   ]
  },
  {
   "cell_type": "code",
   "execution_count": null,
   "id": "b4e60680",
   "metadata": {},
   "outputs": [],
   "source": [
    "results = pd.DataFrame.from_dict(sfs_pipe.named_steps['sequentialfeatureselector'].subsets_).T"
   ]
  },
  {
   "cell_type": "code",
   "execution_count": null,
   "id": "3cb4537b",
   "metadata": {},
   "outputs": [],
   "source": [
    "results"
   ]
  },
  {
   "cell_type": "code",
   "execution_count": null,
   "id": "fe47a7d6",
   "metadata": {},
   "outputs": [],
   "source": [
    "metric_dict = sfs.get_metric_dict()\n",
    "num_features = list(metric_dict.keys())\n",
    "avg_scores = [metric_dict[k]['avg_score'] for k in num_features]\n",
    "std_scores = [metric_dict[k]['std_dev'] for k in num_features]\n",
    "cv_scores = [metric_dict[k]['cv_scores'] for k in num_features]  # Scores individuais de cada fold"
   ]
  },
  {
   "cell_type": "code",
   "execution_count": null,
   "id": "4cc2e356",
   "metadata": {},
   "outputs": [],
   "source": [
    "plt.figure(figsize=(12, 7))\n",
    "plt.plot(\n",
    "    num_features, \n",
    "    avg_scores, \n",
    "    marker='o', \n",
    "    linestyle='-', \n",
    "    color='b', \n",
    "    linewidth=2,\n",
    "    markersize=8)\n",
    "\n",
    "# Adicionar barras de erro (desvio padrão)\n",
    "plt.errorbar(\n",
    "    num_features, \n",
    "    avg_scores, \n",
    "    yerr=std_scores, \n",
    "    fmt='none', \n",
    "    ecolor='red', \n",
    "    elinewidth=1, \n",
    "    capsize=3, \n",
    "    alpha=0.7)\n",
    "\n",
    "# Adicionar pontos individuais de cada fold da validação cruzada\n",
    "for i, n in enumerate(num_features):\n",
    "    # Espalhar os pontos horizontalmente para melhor visualização\n",
    "    x_positions = np.random.normal(n, 0.05, size=len(cv_scores[i]))\n",
    "    plt.scatter(x_positions, cv_scores[i], color='gray', alpha=0.6, s=30)\n",
    "\n",
    "plt.xlabel('Número de Features', fontsize=12)\n",
    "plt.ylabel('Acurácia', fontsize=12)\n",
    "plt.title('Desempenho do Modelo por Número de Features Selecionadas\\nCom Barras de Erro (Desvio Padrão) e Pontos Individuais de CV', fontsize=14)\n",
    "plt.grid(True, linestyle='--', alpha=0.7)"
   ]
  },
  {
   "cell_type": "code",
   "execution_count": null,
   "id": "7ba5e6d5",
   "metadata": {},
   "outputs": [],
   "source": [
    "import pandas as pd\n",
    "import yaml\n",
    "import os\n",
    "import pickle\n",
    "import matplotlib.pyplot as plt\n",
    "import dalex as dx\n",
    "\n",
    "\n",
    "yaml_path = r\"C:\\Users\\gustavo\\Documents\\Data Science\\08-GitHub\\Portifolio\\Classification\\titanic_version_1\\src\\config.yaml\"\n",
    "with open(yaml_path, \"r\", encoding=\"utf-8\") as f:\n",
    "    config = yaml.safe_load(f)"
   ]
  },
  {
   "cell_type": "code",
   "execution_count": null,
   "id": "05f6c921",
   "metadata": {},
   "outputs": [],
   "source": [
    "X_val_feat_sel = os.path.join(\n",
    "        config['feat_selection']['path'],\n",
    "        config['feat_selection']['X_val_file'])   \n",
    "\n",
    "y_val_feat_sel = os.path.join(\n",
    "        config['feat_selection']['path'],\n",
    "        config['feat_selection']['y_val_file'])\n",
    "\n",
    "params_ = {\n",
    "    'X_val_feat_sel': X_val_feat_sel,\n",
    "    'y_val_feat_sel': y_val_feat_sel,\n",
    "    'model': config['model']['path'],\n",
    "    'save_plot': config['save_reports']['path_plot'],\n",
    "    'removed_cols': config['save_reports']['path_reports'],\n",
    "    }"
   ]
  },
  {
   "cell_type": "code",
   "execution_count": null,
   "id": "51e80566",
   "metadata": {},
   "outputs": [],
   "source": [
    "X_val = pd.read_parquet(params_['X_val_feat_sel'])\n",
    "y_val = pd.read_parquet(params_['y_val_feat_sel'])     \n",
    "    \n",
    " \n",
    "model_path = os.path.join(\n",
    "    params_['model'],\n",
    "    f\"model.pkl\")    \n",
    "with open(model_path, \"rb\") as file:\n",
    "        model = pickle.load(file)"
   ]
  },
  {
   "cell_type": "code",
   "execution_count": null,
   "id": "114bbc60",
   "metadata": {},
   "outputs": [],
   "source": [
    "explainer = dx.Explainer(model, X_val, y_val)"
   ]
  },
  {
   "cell_type": "code",
   "execution_count": null,
   "id": "dd57cc56",
   "metadata": {},
   "outputs": [],
   "source": [
    "pdp_num = explainer.model_profile(type = 'accumulated', label=\"ale\")\n",
    "pdp_num.plot(pdp_num)"
   ]
  }
 ],
 "metadata": {
  "kernelspec": {
   "display_name": "explain",
   "language": "python",
   "name": "python3"
  },
  "language_info": {
   "codemirror_mode": {
    "name": "ipython",
    "version": 3
   },
   "file_extension": ".py",
   "mimetype": "text/x-python",
   "name": "python",
   "nbconvert_exporter": "python",
   "pygments_lexer": "ipython3",
   "version": "3.12.7"
  }
 },
 "nbformat": 4,
 "nbformat_minor": 5
}
