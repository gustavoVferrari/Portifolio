{
 "cells": [
  {
   "cell_type": "code",
   "execution_count": null,
   "id": "b1cd4d77",
   "metadata": {},
   "outputs": [],
   "source": [
    "import sys\n",
    "sys.path.append(r'C:\\Users\\gustavo\\Documents\\Data Science\\08-GitHub\\Portifolio/Classification/titanic')\n",
    "\n",
    "import pandas as pd\n",
    "import yaml\n",
    "import pickle\n",
    "import os\n",
    "import json\n",
    "\n",
    "# Carregando as configurações do arquivo YAML\n",
    "yaml_path = r\"C:\\Users\\gustavo\\Documents\\Data Science\\08-GitHub\\Portifolio\\Classification\\titanic\\src\\config.yaml\"\n",
    "with open(yaml_path, \"r\", encoding=\"utf-8\") as f:\n",
    "    config = yaml.safe_load(f)\n",
    "\n",
    "\n",
    "params = {\n",
    "          'test_data': os.path.join(\n",
    "              config['output_data']['path'], \n",
    "              config['output_data']['file_test']),\n",
    "          'passanger_id' : config['feat_selection_params']['cols_2_drop'],\n",
    "          'cols_2_drop' : config['feat_selection_params']['cols_2_drop'],           \n",
    "          'pipe': config['pipe_feat_eng']['path'],\n",
    "          'model': config['model']['path'],\n",
    "          'report': config['save_reports']['path_reports'],\n",
    "          'submission':config['submission']['path'],\n",
    "          'target':config['feat_selection_params']['target']\n",
    "          }\n",
    "    \n",
    "\n",
    "    \n",
    "print('Data submission')\n",
    "df_test = pd.read_parquet(params['test_data'])\n",
    "\n",
    "y_test_id = df_test[params['passanger_id']]\n",
    "df_test.drop(\n",
    "    columns=params['cols_2_drop'], \n",
    "    inplace=True)\n",
    "\n",
    "pipe_path = os.path.join(\n",
    "    params['model'],\n",
    "    f\"pipe.pkl\")\n",
    "\n",
    "with open(pipe_path, \"rb\") as file:\n",
    "    pipe = pickle.load(file)\n",
    "\n",
    "df_test_transf = pipe.transform(df_test)    \n",
    "\n",
    "model_path = os.path.join(\n",
    "    params['model'],\n",
    "    f\"model.pkl\")\n",
    "\n",
    "with open(model_path, \"rb\") as file:\n",
    "    model = pickle.load(file)\n",
    "    \n",
    "report_path = os.path.join(\n",
    "    params['report'],\n",
    "    \"report.json\")\n",
    "# get cols to predict\n",
    "with open(report_path, \"rb\") as file:\n",
    "    report = json.load(file)\n",
    "    \n",
    "y_test_id[config['target']] = model.predict(df_test_transf[report['Variaveis mantidas:']])\n",
    "    \n"
   ]
  },
  {
   "cell_type": "code",
   "execution_count": null,
   "id": "b12d68c2",
   "metadata": {},
   "outputs": [],
   "source": [
    "import pandas as pd\n",
    "import yaml\n",
    "import os\n",
    "import pickle\n",
    "import matplotlib.pyplot as plt"
   ]
  },
  {
   "cell_type": "code",
   "execution_count": null,
   "id": "3bb5d2b3",
   "metadata": {},
   "outputs": [],
   "source": [
    "from sklearn.inspection import PartialDependenceDisplay"
   ]
  },
  {
   "cell_type": "code",
   "execution_count": null,
   "id": "0974b085",
   "metadata": {},
   "outputs": [],
   "source": [
    "yaml_path = r\"C:\\Users\\gustavo\\Documents\\Data Science\\08-GitHub\\Portifolio\\Classification\\titanic\\src\\config.yaml\"\n",
    "with open(yaml_path, \"r\", encoding=\"utf-8\") as f:\n",
    "    config = yaml.safe_load(f)"
   ]
  },
  {
   "cell_type": "code",
   "execution_count": null,
   "id": "8b4e0aa8",
   "metadata": {},
   "outputs": [],
   "source": [
    "X_test_feat_sel = os.path.join(\n",
    "            config['feat_selection']['path'],\n",
    "            config['feat_selection']['X_test_file_name'])   \n",
    "    \n",
    "y_test_feat_sel = os.path.join(\n",
    "            config['feat_selection']['path'],\n",
    "            config['feat_selection']['y_test_file_name'])"
   ]
  },
  {
   "cell_type": "code",
   "execution_count": null,
   "id": "90a575e7",
   "metadata": {},
   "outputs": [],
   "source": [
    "params_ = {\n",
    "        'X_test_feat_sel': X_test_feat_sel,\n",
    "        'y_test_feat_sel': y_test_feat_sel,\n",
    "        'model': config['model']['path'],    \n",
    "        }"
   ]
  },
  {
   "cell_type": "code",
   "execution_count": null,
   "id": "b1f93e22",
   "metadata": {},
   "outputs": [],
   "source": [
    "X_test = pd.read_parquet(params_['X_test_feat_sel'])\n",
    "y_test = pd.read_parquet(params_['y_test_feat_sel']) "
   ]
  },
  {
   "cell_type": "code",
   "execution_count": null,
   "id": "6ccd0fc4",
   "metadata": {},
   "outputs": [],
   "source": [
    "model_path = os.path.join(\n",
    "        params_['model'],\n",
    "        f\"model.pkl\")\n",
    "    \n",
    "with open(model_path, \"rb\") as file:\n",
    "        model = pickle.load(file)"
   ]
  },
  {
   "cell_type": "code",
   "execution_count": null,
   "id": "fee35ed8",
   "metadata": {},
   "outputs": [],
   "source": [
    "s = pd.Series(\n",
    "    model.feature_importances_,\n",
    "    index=model.feature_names_in_\n",
    ")\n",
    "s = s.sort_values()\n",
    "(s\n",
    " .plot\n",
    " .bar(\n",
    "     figsize=(20, 8),\n",
    "     title='Feature Importance'\n",
    "     )\n",
    " )"
   ]
  },
  {
   "cell_type": "code",
   "execution_count": null,
   "id": "c02ee00e",
   "metadata": {},
   "outputs": [],
   "source": [
    "list_feat = s[-3:].index"
   ]
  },
  {
   "cell_type": "code",
   "execution_count": null,
   "id": "31721992",
   "metadata": {},
   "outputs": [],
   "source": [
    "feature_names_2_explain = []\n",
    "feature_names_2_explain_cat = []\n",
    "for feat in list_feat:\n",
    "    if feat.find('numerical') == 0:\n",
    "        feature_names_2_explain.append(feat)\n",
    "    elif feat.find('categorical') == 0:\n",
    "        feature_names_2_explain_cat.append(feat)"
   ]
  },
  {
   "cell_type": "code",
   "execution_count": null,
   "id": "d7fb8cb4",
   "metadata": {},
   "outputs": [],
   "source": [
    "cols = list(X_test.columns)"
   ]
  },
  {
   "cell_type": "code",
   "execution_count": null,
   "id": "cdcfc7d0",
   "metadata": {},
   "outputs": [],
   "source": [
    "idx_num = []\n",
    "for col in feature_names_2_explain:\n",
    "    idx_num.append(cols.index(col))"
   ]
  },
  {
   "cell_type": "code",
   "execution_count": null,
   "id": "786552b4",
   "metadata": {},
   "outputs": [],
   "source": [
    "idx_cat = []\n",
    "for col in feature_names_2_explain_cat:\n",
    "    idx_cat.append(cols.index(col))"
   ]
  },
  {
   "cell_type": "code",
   "execution_count": null,
   "id": "9ebab9ee",
   "metadata": {},
   "outputs": [],
   "source": [
    "idx = idx_num + idx_cat"
   ]
  },
  {
   "cell_type": "code",
   "execution_count": null,
   "id": "a81fbf89",
   "metadata": {},
   "outputs": [],
   "source": [
    "fig, ax = plt.subplots(figsize=(20, 6))\n",
    "ax.set_title(\"Parcial dependence plot\")\n",
    "\n",
    "PartialDependenceDisplay.from_estimator(\n",
    "    estimator=model,\n",
    "    X=X_test,\n",
    "    features = idx,\n",
    "    categorical_features=idx_cat,\n",
    "    random_state=23,\n",
    "    ax=ax\n",
    ")"
   ]
  },
  {
   "cell_type": "code",
   "execution_count": null,
   "id": "777576fb",
   "metadata": {},
   "outputs": [],
   "source": [
    "fig, ax = plt.subplots(figsize=(20, 6))\n",
    "ax.set_title(\"ICE plot\")\n",
    "\n",
    "PartialDependenceDisplay.from_estimator(\n",
    "    estimator=model,\n",
    "    X=X_test,\n",
    "    kind='individual',\n",
    "    features = idx_num,\n",
    "    random_state=23,\n",
    "    ax=ax\n",
    ");"
   ]
  },
  {
   "cell_type": "code",
   "execution_count": null,
   "id": "38c13598",
   "metadata": {},
   "outputs": [],
   "source": [
    "fig, ax = plt.subplots(figsize=(20, 6))\n",
    "ax.set_title(\"ICE plot\")\n",
    "\n",
    "PartialDependenceDisplay.from_estimator(\n",
    "    estimator=model,\n",
    "    X=X_test,\n",
    "    kind='both',\n",
    "    features = idx_num,\n",
    "    random_state=23,\n",
    "    ax=ax\n",
    ");"
   ]
  },
  {
   "cell_type": "code",
   "execution_count": null,
   "id": "3797472e",
   "metadata": {},
   "outputs": [],
   "source": [
    "fig, ax = plt.subplots(figsize=(20, 6))\n",
    "ax.set_title(\"ICE plot\")\n",
    "\n",
    "PartialDependenceDisplay.from_estimator(\n",
    "    estimator=model,\n",
    "    X=X_test,\n",
    "    kind='both',\n",
    "    features = idx_num,\n",
    "    random_state=23,\n",
    "    centered=True,\n",
    "    ax=ax\n",
    ");"
   ]
  }
 ],
 "metadata": {
  "kernelspec": {
   "display_name": "explain",
   "language": "python",
   "name": "python3"
  },
  "language_info": {
   "codemirror_mode": {
    "name": "ipython",
    "version": 3
   },
   "file_extension": ".py",
   "mimetype": "text/x-python",
   "name": "python",
   "nbconvert_exporter": "python",
   "pygments_lexer": "ipython3",
   "version": "3.12.7"
  }
 },
 "nbformat": 4,
 "nbformat_minor": 5
}
