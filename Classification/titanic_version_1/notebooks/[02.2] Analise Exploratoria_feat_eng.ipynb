{
 "cells": [
  {
   "cell_type": "code",
   "execution_count": 4,
   "id": "51d73760",
   "metadata": {},
   "outputs": [],
   "source": [
    "import sys\n",
    "sys.path.append(r'C:\\Users\\gustavo\\Documents\\Data Science\\08-GitHub\\Portifolio\\Classification\\titanic_version_1')"
   ]
  },
  {
   "cell_type": "code",
   "execution_count": 5,
   "id": "89abed9d",
   "metadata": {},
   "outputs": [],
   "source": [
    "import numpy as np\n",
    "import pandas as pd\n",
    "import seaborn as sns\n",
    "from scipy import stats\n",
    "import matplotlib.pyplot as plt\n",
    "from collections import Counter\n",
    "\n",
    "plt.style.use('ggplot')"
   ]
  },
  {
   "cell_type": "code",
   "execution_count": 6,
   "id": "bfa1a53a",
   "metadata": {},
   "outputs": [],
   "source": [
    "from utils.graphs import plot_categorical_data, plot_numerical_data"
   ]
  },
  {
   "cell_type": "markdown",
   "id": "5bc1969e",
   "metadata": {},
   "source": [
    "# Read Dataset"
   ]
  },
  {
   "cell_type": "code",
   "execution_count": 7,
   "id": "130f8f64",
   "metadata": {},
   "outputs": [],
   "source": [
    "file = r'C:\\Users\\gustavo\\Documents\\Data Science\\08-GitHub\\Portifolio\\Classification\\titanic_version_1\\dados_titanic\\processed\\feat_X_train.parquet'\n",
    "\n",
    "df = pd.read_parquet(file)"
   ]
  },
  {
   "cell_type": "code",
   "execution_count": 8,
   "id": "51ac30ee",
   "metadata": {},
   "outputs": [
    {
     "name": "stdout",
     "output_type": "stream",
     "text": [
      "Dataset rows and columns: (668, 22)\n"
     ]
    }
   ],
   "source": [
    "print(f'Dataset rows and columns: {df.shape}')"
   ]
  },
  {
   "cell_type": "code",
   "execution_count": 9,
   "id": "d29e1467",
   "metadata": {},
   "outputs": [
    {
     "data": {
      "application/vnd.microsoft.datawrangler.viewer.v0+json": {
       "columns": [
        {
         "name": "index",
         "rawType": "int64",
         "type": "integer"
        },
        {
         "name": "numerical_pipe__Age",
         "rawType": "float64",
         "type": "float"
        },
        {
         "name": "numerical_pipe__SibSp",
         "rawType": "float64",
         "type": "float"
        },
        {
         "name": "numerical_pipe__Parch",
         "rawType": "float64",
         "type": "float"
        },
        {
         "name": "numerical_pipe__Fare",
         "rawType": "float64",
         "type": "float"
        },
        {
         "name": "categorical_pipe__Pclass_3",
         "rawType": "float64",
         "type": "float"
        },
        {
         "name": "categorical_pipe__Pclass_2",
         "rawType": "float64",
         "type": "float"
        },
        {
         "name": "categorical_pipe__Sex_male",
         "rawType": "float64",
         "type": "float"
        },
        {
         "name": "categorical_pipe__Cabin_missing",
         "rawType": "float64",
         "type": "float"
        },
        {
         "name": "categorical_pipe__Embarked_S",
         "rawType": "float64",
         "type": "float"
        },
        {
         "name": "categorical_pipe__Embarked_C",
         "rawType": "float64",
         "type": "float"
        },
        {
         "name": "categorical_pipe__Ticket_1p_3",
         "rawType": "float64",
         "type": "float"
        },
        {
         "name": "categorical_pipe__Ticket_1p_2",
         "rawType": "float64",
         "type": "float"
        },
        {
         "name": "categorical_pipe__Ticket_1p_P",
         "rawType": "float64",
         "type": "float"
        },
        {
         "name": "categorical_pipe__Ticket_1p_1",
         "rawType": "float64",
         "type": "float"
        },
        {
         "name": "categorical_pipe__Ticket_1p_A",
         "rawType": "float64",
         "type": "float"
        },
        {
         "name": "categorical_pipe__Cabin_1p_missing",
         "rawType": "float64",
         "type": "float"
        },
        {
         "name": "categorical_pipe__Cabin_1p_E",
         "rawType": "float64",
         "type": "float"
        },
        {
         "name": "categorical_pipe__Cabin_1p_B",
         "rawType": "float64",
         "type": "float"
        },
        {
         "name": "categorical_pipe__Cabin_1p_D",
         "rawType": "float64",
         "type": "float"
        },
        {
         "name": "categorical_pipe__Embarked_mod_SQ",
         "rawType": "float64",
         "type": "float"
        },
        {
         "name": "categorical_pipe__Embarked_mod_C",
         "rawType": "float64",
         "type": "float"
        },
        {
         "name": "categorical_pipe__SibSp_mod_no",
         "rawType": "float64",
         "type": "float"
        }
       ],
       "ref": "95e8dac6-f824-4b95-ab72-6113135d59a4",
       "rows": [
        [
         "91",
         "0.24604171902488062",
         "0.0",
         "0.0",
         "0.015330377421392339",
         "1.0",
         "0.0",
         "1.0",
         "1.0",
         "1.0",
         "0.0",
         "1.0",
         "0.0",
         "0.0",
         "0.0",
         "0.0",
         "1.0",
         "0.0",
         "0.0",
         "0.0",
         "1.0",
         "0.0",
         "1.0"
        ],
        [
         "114",
         "0.20834380497612465",
         "0.0",
         "0.0",
         "0.028220722145058292",
         "1.0",
         "0.0",
         "0.0",
         "1.0",
         "0.0",
         "1.0",
         "0.0",
         "1.0",
         "0.0",
         "0.0",
         "0.0",
         "1.0",
         "0.0",
         "0.0",
         "0.0",
         "0.0",
         "1.0",
         "1.0"
        ],
        [
         "657",
         "0.39683337521990447",
         "0.125",
         "0.16666666666666666",
         "0.030253985132996517",
         "1.0",
         "0.0",
         "0.0",
         "1.0",
         "0.0",
         "0.0",
         "1.0",
         "0.0",
         "0.0",
         "0.0",
         "0.0",
         "1.0",
         "0.0",
         "0.0",
         "0.0",
         "1.0",
         "0.0",
         "0.0"
        ],
        [
         "778",
         "0.34656948982156316",
         "0.0",
         "0.0",
         "0.015102594191391004",
         "1.0",
         "0.0",
         "1.0",
         "1.0",
         "0.0",
         "0.0",
         "1.0",
         "0.0",
         "0.0",
         "0.0",
         "0.0",
         "1.0",
         "0.0",
         "0.0",
         "0.0",
         "1.0",
         "0.0",
         "1.0"
        ],
        [
         "146",
         "0.33400351847197784",
         "0.0",
         "0.0",
         "0.015216388212891242",
         "1.0",
         "0.0",
         "1.0",
         "1.0",
         "1.0",
         "0.0",
         "1.0",
         "0.0",
         "0.0",
         "0.0",
         "0.0",
         "1.0",
         "0.0",
         "0.0",
         "0.0",
         "1.0",
         "0.0",
         "1.0"
        ]
       ],
       "shape": {
        "columns": 22,
        "rows": 5
       }
      },
      "text/html": [
       "<div>\n",
       "<style scoped>\n",
       "    .dataframe tbody tr th:only-of-type {\n",
       "        vertical-align: middle;\n",
       "    }\n",
       "\n",
       "    .dataframe tbody tr th {\n",
       "        vertical-align: top;\n",
       "    }\n",
       "\n",
       "    .dataframe thead th {\n",
       "        text-align: right;\n",
       "    }\n",
       "</style>\n",
       "<table border=\"1\" class=\"dataframe\">\n",
       "  <thead>\n",
       "    <tr style=\"text-align: right;\">\n",
       "      <th></th>\n",
       "      <th>numerical_pipe__Age</th>\n",
       "      <th>numerical_pipe__SibSp</th>\n",
       "      <th>numerical_pipe__Parch</th>\n",
       "      <th>numerical_pipe__Fare</th>\n",
       "      <th>categorical_pipe__Pclass_3</th>\n",
       "      <th>categorical_pipe__Pclass_2</th>\n",
       "      <th>categorical_pipe__Sex_male</th>\n",
       "      <th>categorical_pipe__Cabin_missing</th>\n",
       "      <th>categorical_pipe__Embarked_S</th>\n",
       "      <th>categorical_pipe__Embarked_C</th>\n",
       "      <th>...</th>\n",
       "      <th>categorical_pipe__Ticket_1p_P</th>\n",
       "      <th>categorical_pipe__Ticket_1p_1</th>\n",
       "      <th>categorical_pipe__Ticket_1p_A</th>\n",
       "      <th>categorical_pipe__Cabin_1p_missing</th>\n",
       "      <th>categorical_pipe__Cabin_1p_E</th>\n",
       "      <th>categorical_pipe__Cabin_1p_B</th>\n",
       "      <th>categorical_pipe__Cabin_1p_D</th>\n",
       "      <th>categorical_pipe__Embarked_mod_SQ</th>\n",
       "      <th>categorical_pipe__Embarked_mod_C</th>\n",
       "      <th>categorical_pipe__SibSp_mod_no</th>\n",
       "    </tr>\n",
       "  </thead>\n",
       "  <tbody>\n",
       "    <tr>\n",
       "      <th>91</th>\n",
       "      <td>0.246042</td>\n",
       "      <td>0.000</td>\n",
       "      <td>0.000000</td>\n",
       "      <td>0.015330</td>\n",
       "      <td>1.0</td>\n",
       "      <td>0.0</td>\n",
       "      <td>1.0</td>\n",
       "      <td>1.0</td>\n",
       "      <td>1.0</td>\n",
       "      <td>0.0</td>\n",
       "      <td>...</td>\n",
       "      <td>0.0</td>\n",
       "      <td>0.0</td>\n",
       "      <td>0.0</td>\n",
       "      <td>1.0</td>\n",
       "      <td>0.0</td>\n",
       "      <td>0.0</td>\n",
       "      <td>0.0</td>\n",
       "      <td>1.0</td>\n",
       "      <td>0.0</td>\n",
       "      <td>1.0</td>\n",
       "    </tr>\n",
       "    <tr>\n",
       "      <th>114</th>\n",
       "      <td>0.208344</td>\n",
       "      <td>0.000</td>\n",
       "      <td>0.000000</td>\n",
       "      <td>0.028221</td>\n",
       "      <td>1.0</td>\n",
       "      <td>0.0</td>\n",
       "      <td>0.0</td>\n",
       "      <td>1.0</td>\n",
       "      <td>0.0</td>\n",
       "      <td>1.0</td>\n",
       "      <td>...</td>\n",
       "      <td>0.0</td>\n",
       "      <td>0.0</td>\n",
       "      <td>0.0</td>\n",
       "      <td>1.0</td>\n",
       "      <td>0.0</td>\n",
       "      <td>0.0</td>\n",
       "      <td>0.0</td>\n",
       "      <td>0.0</td>\n",
       "      <td>1.0</td>\n",
       "      <td>1.0</td>\n",
       "    </tr>\n",
       "    <tr>\n",
       "      <th>657</th>\n",
       "      <td>0.396833</td>\n",
       "      <td>0.125</td>\n",
       "      <td>0.166667</td>\n",
       "      <td>0.030254</td>\n",
       "      <td>1.0</td>\n",
       "      <td>0.0</td>\n",
       "      <td>0.0</td>\n",
       "      <td>1.0</td>\n",
       "      <td>0.0</td>\n",
       "      <td>0.0</td>\n",
       "      <td>...</td>\n",
       "      <td>0.0</td>\n",
       "      <td>0.0</td>\n",
       "      <td>0.0</td>\n",
       "      <td>1.0</td>\n",
       "      <td>0.0</td>\n",
       "      <td>0.0</td>\n",
       "      <td>0.0</td>\n",
       "      <td>1.0</td>\n",
       "      <td>0.0</td>\n",
       "      <td>0.0</td>\n",
       "    </tr>\n",
       "    <tr>\n",
       "      <th>778</th>\n",
       "      <td>0.346569</td>\n",
       "      <td>0.000</td>\n",
       "      <td>0.000000</td>\n",
       "      <td>0.015103</td>\n",
       "      <td>1.0</td>\n",
       "      <td>0.0</td>\n",
       "      <td>1.0</td>\n",
       "      <td>1.0</td>\n",
       "      <td>0.0</td>\n",
       "      <td>0.0</td>\n",
       "      <td>...</td>\n",
       "      <td>0.0</td>\n",
       "      <td>0.0</td>\n",
       "      <td>0.0</td>\n",
       "      <td>1.0</td>\n",
       "      <td>0.0</td>\n",
       "      <td>0.0</td>\n",
       "      <td>0.0</td>\n",
       "      <td>1.0</td>\n",
       "      <td>0.0</td>\n",
       "      <td>1.0</td>\n",
       "    </tr>\n",
       "    <tr>\n",
       "      <th>146</th>\n",
       "      <td>0.334004</td>\n",
       "      <td>0.000</td>\n",
       "      <td>0.000000</td>\n",
       "      <td>0.015216</td>\n",
       "      <td>1.0</td>\n",
       "      <td>0.0</td>\n",
       "      <td>1.0</td>\n",
       "      <td>1.0</td>\n",
       "      <td>1.0</td>\n",
       "      <td>0.0</td>\n",
       "      <td>...</td>\n",
       "      <td>0.0</td>\n",
       "      <td>0.0</td>\n",
       "      <td>0.0</td>\n",
       "      <td>1.0</td>\n",
       "      <td>0.0</td>\n",
       "      <td>0.0</td>\n",
       "      <td>0.0</td>\n",
       "      <td>1.0</td>\n",
       "      <td>0.0</td>\n",
       "      <td>1.0</td>\n",
       "    </tr>\n",
       "  </tbody>\n",
       "</table>\n",
       "<p>5 rows × 22 columns</p>\n",
       "</div>"
      ],
      "text/plain": [
       "     numerical_pipe__Age  numerical_pipe__SibSp  numerical_pipe__Parch  \\\n",
       "91              0.246042                  0.000               0.000000   \n",
       "114             0.208344                  0.000               0.000000   \n",
       "657             0.396833                  0.125               0.166667   \n",
       "778             0.346569                  0.000               0.000000   \n",
       "146             0.334004                  0.000               0.000000   \n",
       "\n",
       "     numerical_pipe__Fare  categorical_pipe__Pclass_3  \\\n",
       "91               0.015330                         1.0   \n",
       "114              0.028221                         1.0   \n",
       "657              0.030254                         1.0   \n",
       "778              0.015103                         1.0   \n",
       "146              0.015216                         1.0   \n",
       "\n",
       "     categorical_pipe__Pclass_2  categorical_pipe__Sex_male  \\\n",
       "91                          0.0                         1.0   \n",
       "114                         0.0                         0.0   \n",
       "657                         0.0                         0.0   \n",
       "778                         0.0                         1.0   \n",
       "146                         0.0                         1.0   \n",
       "\n",
       "     categorical_pipe__Cabin_missing  categorical_pipe__Embarked_S  \\\n",
       "91                               1.0                           1.0   \n",
       "114                              1.0                           0.0   \n",
       "657                              1.0                           0.0   \n",
       "778                              1.0                           0.0   \n",
       "146                              1.0                           1.0   \n",
       "\n",
       "     categorical_pipe__Embarked_C  ...  categorical_pipe__Ticket_1p_P  \\\n",
       "91                            0.0  ...                            0.0   \n",
       "114                           1.0  ...                            0.0   \n",
       "657                           0.0  ...                            0.0   \n",
       "778                           0.0  ...                            0.0   \n",
       "146                           0.0  ...                            0.0   \n",
       "\n",
       "     categorical_pipe__Ticket_1p_1  categorical_pipe__Ticket_1p_A  \\\n",
       "91                             0.0                            0.0   \n",
       "114                            0.0                            0.0   \n",
       "657                            0.0                            0.0   \n",
       "778                            0.0                            0.0   \n",
       "146                            0.0                            0.0   \n",
       "\n",
       "     categorical_pipe__Cabin_1p_missing  categorical_pipe__Cabin_1p_E  \\\n",
       "91                                  1.0                           0.0   \n",
       "114                                 1.0                           0.0   \n",
       "657                                 1.0                           0.0   \n",
       "778                                 1.0                           0.0   \n",
       "146                                 1.0                           0.0   \n",
       "\n",
       "     categorical_pipe__Cabin_1p_B  categorical_pipe__Cabin_1p_D  \\\n",
       "91                            0.0                           0.0   \n",
       "114                           0.0                           0.0   \n",
       "657                           0.0                           0.0   \n",
       "778                           0.0                           0.0   \n",
       "146                           0.0                           0.0   \n",
       "\n",
       "     categorical_pipe__Embarked_mod_SQ  categorical_pipe__Embarked_mod_C  \\\n",
       "91                                 1.0                               0.0   \n",
       "114                                0.0                               1.0   \n",
       "657                                1.0                               0.0   \n",
       "778                                1.0                               0.0   \n",
       "146                                1.0                               0.0   \n",
       "\n",
       "     categorical_pipe__SibSp_mod_no  \n",
       "91                              1.0  \n",
       "114                             1.0  \n",
       "657                             0.0  \n",
       "778                             1.0  \n",
       "146                             1.0  \n",
       "\n",
       "[5 rows x 22 columns]"
      ]
     },
     "execution_count": 9,
     "metadata": {},
     "output_type": "execute_result"
    }
   ],
   "source": [
    "df.head()"
   ]
  },
  {
   "cell_type": "code",
   "execution_count": null,
   "id": "5e420441",
   "metadata": {},
   "outputs": [],
   "source": []
  },
  {
   "cell_type": "markdown",
   "id": "bd8a8005",
   "metadata": {},
   "source": [
    "# Graphs"
   ]
  },
  {
   "cell_type": "code",
   "execution_count": null,
   "id": "4347c8fb",
   "metadata": {},
   "outputs": [],
   "source": [
    "plot_categorical_data(df=df, target=\"Survived\")"
   ]
  },
  {
   "cell_type": "code",
   "execution_count": null,
   "id": "3949ba52",
   "metadata": {},
   "outputs": [],
   "source": [
    "plot_numerical_data(df, target=\"Survived\")"
   ]
  }
 ],
 "metadata": {
  "kernelspec": {
   "display_name": "explain",
   "language": "python",
   "name": "python3"
  },
  "language_info": {
   "codemirror_mode": {
    "name": "ipython",
    "version": 3
   },
   "file_extension": ".py",
   "mimetype": "text/x-python",
   "name": "python",
   "nbconvert_exporter": "python",
   "pygments_lexer": "ipython3",
   "version": "3.12.7"
  }
 },
 "nbformat": 4,
 "nbformat_minor": 5
}
