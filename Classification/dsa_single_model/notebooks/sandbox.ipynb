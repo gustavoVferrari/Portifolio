{
 "cells": [
  {
   "cell_type": "code",
   "execution_count": null,
   "id": "ff34a56b",
   "metadata": {},
   "outputs": [],
   "source": [
    "import pandas as pd"
   ]
  },
  {
   "cell_type": "code",
   "execution_count": null,
   "id": "65736cec",
   "metadata": {},
   "outputs": [],
   "source": [
    "file = r'..\\dsa\\raw\\dataset_treino.csv'\n",
    "\n",
    "df = pd.read_csv(file)"
   ]
  },
  {
   "cell_type": "code",
   "execution_count": null,
   "id": "3478483c",
   "metadata": {},
   "outputs": [],
   "source": [
    "df.head()"
   ]
  },
  {
   "cell_type": "code",
   "execution_count": 21,
   "id": "17c660a1",
   "metadata": {},
   "outputs": [],
   "source": [
    "import sys\n",
    "sys.path.append(r'C:\\Users\\gustavo\\Documents\\Data Science\\08-GitHub\\Portifolio/Classification/dsa_single_model')\n",
    "\n",
    "import pandas as pd\n",
    "import yaml\n",
    "import pickle\n",
    "import os\n",
    "import json\n",
    "\n",
    "# Carregando as configurações do arquivo YAML\n",
    "yaml_path = r\"C:\\Users\\gustavo\\Documents\\Data Science\\08-GitHub\\Portifolio\\Classification\\dsa_single_model\\src\\config.yaml\"\n",
    "with open(yaml_path, \"r\", encoding=\"utf-8\") as f:\n",
    "    config = yaml.safe_load(f)   \n",
    "    \n",
    "\n",
    "    \n",
    "if __name__ == \"__main__\":\n",
    "    \n",
    "      params = {\n",
    "          'test_data': os.path.join(config['processed_data']['path'], \n",
    "                                    config['processed_data']['test']),\n",
    "          'cols_2_drop_feat_sel' : config['feat_selection_params']['cols_2_drop'],           \n",
    "          'pipe': config['pipe_feat_eng']['path'],\n",
    "          'model': config['model']['path'],\n",
    "          'model_version': config['model']['model_version'],\n",
    "          'report': config['save_reports']['path_reports'],\n",
    "          'target':config['feat_selection_params']['target'],\n",
    "          'cols_2_drop_model':config['model_selection']['cols_2_drop'],\n",
    "          'target':config['feat_selection_params']['target'],\n",
    "          'submission':config['submission']['path']\n",
    "          }\n",
    "      \n",
    "      \n",
    "      "
   ]
  },
  {
   "cell_type": "code",
   "execution_count": 22,
   "id": "054214da",
   "metadata": {},
   "outputs": [],
   "source": [
    "df_test = pd.read_parquet(params['test_data'])  "
   ]
  },
  {
   "cell_type": "code",
   "execution_count": 24,
   "id": "45e2db09",
   "metadata": {},
   "outputs": [],
   "source": [
    "y_test_id = df_test[['id']].copy()"
   ]
  },
  {
   "cell_type": "code",
   "execution_count": 25,
   "id": "66eb6dee",
   "metadata": {},
   "outputs": [],
   "source": [
    "df_test.drop(\n",
    "        columns=params['cols_2_drop_feat_sel'], \n",
    "        inplace=True)"
   ]
  },
  {
   "cell_type": "code",
   "execution_count": 26,
   "id": "548db5c8",
   "metadata": {},
   "outputs": [],
   "source": [
    "# read pipe\n",
    "pipe_path = os.path.join(\n",
    "    params['model'],\n",
    "    f\"feat_sel_pipe_{config['feat_selection_params']['pipe_version']}.pkl\")\n",
    "\n",
    "with open(pipe_path, \"rb\") as file:\n",
    "    pipe = pickle.load(file)"
   ]
  },
  {
   "cell_type": "code",
   "execution_count": 27,
   "id": "031002a9",
   "metadata": {},
   "outputs": [],
   "source": [
    "# appply pipe\n",
    "df_test_transf = pipe.transform(df_test) \n",
    "\n",
    "df_test_transf.drop(\n",
    "    columns = params['cols_2_drop_model'],\n",
    "    inplace=True\n",
    ")   "
   ]
  },
  {
   "cell_type": "code",
   "execution_count": 28,
   "id": "bf7c7cad",
   "metadata": {},
   "outputs": [],
   "source": [
    "model_path = os.path.join(\n",
    "    params['model'],\n",
    "    f\"model_{params['model_version']}.pkl\")\n",
    "# open model\n",
    "with open(model_path, \"rb\") as file:\n",
    "    model = pickle.load(file)"
   ]
  },
  {
   "cell_type": "code",
   "execution_count": 30,
   "id": "6817546b",
   "metadata": {},
   "outputs": [],
   "source": [
    "y_test_id.loc[:,f'{params['target'][0]}'] = model.predict(df_test_transf)"
   ]
  },
  {
   "cell_type": "code",
   "execution_count": 32,
   "id": "e7a70502",
   "metadata": {},
   "outputs": [],
   "source": [
    "y_test_id.to_csv(\n",
    "        os.path.join(params['submission'],\n",
    "                     'submission.csv'),\n",
    "        index=False)"
   ]
  }
 ],
 "metadata": {
  "kernelspec": {
   "display_name": "explain",
   "language": "python",
   "name": "python3"
  },
  "language_info": {
   "codemirror_mode": {
    "name": "ipython",
    "version": 3
   },
   "file_extension": ".py",
   "mimetype": "text/x-python",
   "name": "python",
   "nbconvert_exporter": "python",
   "pygments_lexer": "ipython3",
   "version": "3.12.7"
  }
 },
 "nbformat": 4,
 "nbformat_minor": 5
}
